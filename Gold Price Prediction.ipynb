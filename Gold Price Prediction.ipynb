{
 "cells": [
  {
   "cell_type": "code",
   "execution_count": null,
   "id": "f4669c32-a9d5-4562-a552-c199301d2133",
   "metadata": {},
   "outputs": [],
   "source": [
    "import numpy as np\n",
    "import pandas as pd\n",
    "import matplotlib.pyplot as plt\n",
    "import plotly.express as px\n",
    "from sklearn.preprocessing import MinMaxScaler\n",
    "from sklearn.model_selection import train_test_split\n",
    "from sklearn.metrics import mean_absolute_percentage_error\n",
    "import tensorflow as tf\n",
    "from keras import Model\n",
    "from keras.layers import Input, Dense, Dropout\n",
    "from keras.layers import LSTM"
   ]
  },
  {
   "cell_type": "code",
   "execution_count": null,
   "id": "21ef944b-19da-47f9-8a4f-210ba781630e",
   "metadata": {},
   "outputs": [],
   "source": [
    "df = pd.read_csv(r\"C:\\Users\\USER\\Desktop\\jupyter\\Gold Price (2013-2023).csv\")"
   ]
  },
  {
   "cell_type": "code",
   "execution_count": null,
   "id": "57b9bef3-91ac-40f4-bb65-2033a515b6e9",
   "metadata": {},
   "outputs": [],
   "source": [
    "df"
   ]
  },
  {
   "cell_type": "code",
   "execution_count": null,
   "id": "6a0e7ff8-4f8f-45b4-b8a6-0c8aee3d7914",
   "metadata": {},
   "outputs": [],
   "source": [
    "df.info()"
   ]
  },
  {
   "cell_type": "code",
   "execution_count": null,
   "id": "7112384b-3d30-4c65-a615-eb23e316da64",
   "metadata": {},
   "outputs": [],
   "source": [
    "df.drop(['Vol.', 'Change %'], axis=1, inplace=True)"
   ]
  },
  {
   "cell_type": "code",
   "execution_count": null,
   "id": "d8244ac9-e3a2-45aa-bb1e-d1746357d190",
   "metadata": {},
   "outputs": [],
   "source": [
    "df['Date'] = pd.to_datetime(df['Date'])\n",
    "df.sort_values(by='Date', ascending=True, inplace=True)\n",
    "df.reset_index(drop=True, inplace=True)"
   ]
  },
  {
   "cell_type": "code",
   "execution_count": null,
   "id": "0c9b0c9f-a039-4c11-ad67-1ef526058799",
   "metadata": {},
   "outputs": [],
   "source": [
    "NumCols = df.columns.drop(['Date'])\n",
    "df[NumCols] = df[NumCols].replace({',': ''}, regex=True)\n",
    "df[NumCols] = df[NumCols].astype('float64')"
   ]
  },
  {
   "cell_type": "code",
   "execution_count": null,
   "id": "482d333c-591c-4199-a3e4-d322c670a590",
   "metadata": {},
   "outputs": [],
   "source": [
    "df.head()"
   ]
  },
  {
   "cell_type": "code",
   "execution_count": null,
   "id": "cdcea2a3-c708-4933-8886-4b80994beaf6",
   "metadata": {},
   "outputs": [],
   "source": [
    "df.duplicated().sum()"
   ]
  },
  {
   "cell_type": "code",
   "execution_count": null,
   "id": "cb9f5cf6-ce08-4195-9330-d5c818c0d405",
   "metadata": {},
   "outputs": [],
   "source": [
    "df.isnull().sum().sum()"
   ]
  },
  {
   "cell_type": "code",
   "execution_count": null,
   "id": "689c609c-82ab-4e7b-a7f1-a703ee043ad0",
   "metadata": {},
   "outputs": [],
   "source": [
    "fig = px.line(y=df.Price, x=df.Date)\n",
    "fig.update_traces(line_color='black') \n",
    "fig.update_layout(xaxis_title=\"Date\", \n",
    "                  yaxis_title=\"Scaled Price\",\n",
    "                  title={'text': \"Gold Price History Data\", 'y':0.95, 'x':0.5, 'xanchor':'center', 'yanchor':'top'},\n",
    "                  plot_bgcolor='rgba(129, 129, 129, 0.6)')"
   ]
  },
  {
   "cell_type": "code",
   "execution_count": null,
   "id": "0265949b-f4e0-4498-b84a-d5a7aa9c6728",
   "metadata": {},
   "outputs": [],
   "source": [
    "test_size = df[df.Date.dt.year==2022].shape[0]\n",
    "test_size"
   ]
  },
  {
   "cell_type": "code",
   "execution_count": null,
   "id": "2a55adbf-dccc-4dc4-ba4d-2e8a26f37a40",
   "metadata": {},
   "outputs": [],
   "source": [
    "plt.figure(figsize=(15, 6), dpi=150)\n",
    "plt.rcParams['axes.facecolor'] = 'aquamarine'\n",
    "plt.rc('axes',edgecolor='white')\n",
    "plt.plot(df.Date[:-test_size], df.Price[:-test_size], color='black', lw=2)\n",
    "plt.plot(df.Date[-test_size:], df.Price[-test_size:], color='blue', lw=2)\n",
    "plt.title('Gold Price Training and Test Sets', fontsize=15)\n",
    "plt.xlabel('Date', fontsize=12)\n",
    "plt.ylabel('Price', fontsize=12)\n",
    "plt.legend(['Training set', 'Test set'], loc='upper left', prop={'size': 15})\n",
    "plt.grid(color='white')\n",
    "plt.show()"
   ]
  },
  {
   "cell_type": "code",
   "execution_count": null,
   "id": "971ed573-4f4a-4625-a82b-b9882d7319ae",
   "metadata": {},
   "outputs": [],
   "source": [
    "scaler = MinMaxScaler()\n",
    "scaler.fit(df.Price.values.reshape(-1,1))"
   ]
  },
  {
   "cell_type": "code",
   "execution_count": null,
   "id": "0e98c9b5-a22d-4d08-af25-9567690000c4",
   "metadata": {},
   "outputs": [],
   "source": [
    "window_size = 60"
   ]
  },
  {
   "cell_type": "code",
   "execution_count": null,
   "id": "d3d17620-3630-4b17-ba5a-6a3a11068743",
   "metadata": {},
   "outputs": [],
   "source": [
    "train_data = df.Price[:-test_size]\n",
    "train_data = scaler.transform(train_data.values.reshape(-1,1))"
   ]
  },
  {
   "cell_type": "code",
   "execution_count": null,
   "id": "0c866945-6e72-44be-bd09-4d57b28c879a",
   "metadata": {},
   "outputs": [],
   "source": [
    "X_train = []\n",
    "y_train = []\n",
    "\n",
    "for i in range(window_size, len(train_data)):\n",
    "    X_train.append(train_data[i-60:i, 0])\n",
    "    y_train.append(train_data[i, 0])"
   ]
  },
  {
   "cell_type": "code",
   "execution_count": null,
   "id": "ef80b5cd-063e-48c3-91c3-19e4301fb9d5",
   "metadata": {},
   "outputs": [],
   "source": [
    "test_data = df.Price[-test_size-60:]\n",
    "test_data = scaler.transform(test_data.values.reshape(-1,1))"
   ]
  },
  {
   "cell_type": "code",
   "execution_count": null,
   "id": "74a228d4-3328-4f3c-b993-4ac4e623499c",
   "metadata": {},
   "outputs": [],
   "source": [
    "X_test = []\n",
    "y_test = []\n",
    "\n",
    "for i in range(window_size, len(test_data)):\n",
    "    X_test.append(test_data[i-60:i, 0])\n",
    "    y_test.append(test_data[i, 0])"
   ]
  },
  {
   "cell_type": "code",
   "execution_count": null,
   "id": "7d139812-b87c-4fc4-9951-0b6afb563219",
   "metadata": {},
   "outputs": [],
   "source": [
    "X_train = np.array(X_train)\n",
    "X_test  = np.array(X_test)\n",
    "y_train = np.array(y_train)\n",
    "y_test  = np.array(y_test)"
   ]
  },
  {
   "cell_type": "code",
   "execution_count": null,
   "id": "245fc79d-d208-4fb9-945f-50a4feda8afe",
   "metadata": {},
   "outputs": [],
   "source": [
    "X_train = np.reshape(X_train, (X_train.shape[0], X_train.shape[1], 1))\n",
    "X_test  = np.reshape(X_test, (X_test.shape[0], X_test.shape[1], 1))\n",
    "y_train = np.reshape(y_train, (-1,1))\n",
    "y_test  = np.reshape(y_test, (-1,1))"
   ]
  },
  {
   "cell_type": "code",
   "execution_count": null,
   "id": "f17adf41-c11e-4ee7-9697-f5ab278ae934",
   "metadata": {},
   "outputs": [],
   "source": [
    "print('X_train Shape: ', X_train.shape)\n",
    "print('y_train Shape: ', y_train.shape)\n",
    "print('X_test Shape:  ', X_test.shape)\n",
    "print('y_test Shape:  ', y_test.shape)"
   ]
  },
  {
   "cell_type": "code",
   "execution_count": null,
   "id": "d577464c-6e6e-45f0-b53b-66628f3a3f34",
   "metadata": {},
   "outputs": [],
   "source": [
    "def define_model():\n",
    "    input1 = Input(shape=(window_size,1))\n",
    "    x = LSTM(units = 64, return_sequences=True)(input1)  \n",
    "    x = Dropout(0.2)(x)\n",
    "    x = LSTM(units = 64, return_sequences=True)(x)\n",
    "    x = Dropout(0.2)(x)\n",
    "    x = LSTM(units = 64)(x)\n",
    "    x = Dropout(0.2)(x)\n",
    "    x = Dense(32, activation='softmax')(x)\n",
    "    dnn_output = Dense(1)(x)\n",
    "\n",
    "    model = Model(inputs=input1, outputs=[dnn_output])\n",
    "    model.compile(loss='mean_squared_error', optimizer='Nadam')\n",
    "    model.summary()\n",
    "    \n",
    "    return model"
   ]
  },
  {
   "cell_type": "code",
   "execution_count": null,
   "id": "ca0a8fbc-c506-4cb8-b4c5-5b7fb31153ef",
   "metadata": {
    "scrolled": true
   },
   "outputs": [],
   "source": [
    "model = define_model()\n",
    "history = model.fit(X_train, y_train, epochs=150, batch_size=32, validation_split=0.1, verbose=1)"
   ]
  },
  {
   "cell_type": "code",
   "execution_count": null,
   "id": "81db2b7d-a2fe-4b8b-a342-e1112a750074",
   "metadata": {},
   "outputs": [],
   "source": [
    "result = model.evaluate(X_test, y_test)\n",
    "y_pred = model.predict(X_test) "
   ]
  },
  {
   "cell_type": "code",
   "execution_count": null,
   "id": "cd4d8a13-8ee0-4df5-9364-4bd7fc2e5f83",
   "metadata": {},
   "outputs": [],
   "source": [
    "MAPE = mean_absolute_percentage_error(y_test, y_pred)\n",
    "Accuracy = 1 - MAPE"
   ]
  },
  {
   "cell_type": "code",
   "execution_count": null,
   "id": "e0bbc1c4-0bbf-404a-8356-e5dfbaedc8cb",
   "metadata": {},
   "outputs": [],
   "source": [
    "print(\"Test Loss:\", result)\n",
    "print(\"Test MAPE:\", MAPE)\n",
    "print(\"Test Accuracy:\", Accuracy)"
   ]
  },
  {
   "cell_type": "code",
   "execution_count": null,
   "id": "e7b274db-34a8-4dbd-b1da-738ef23caccb",
   "metadata": {},
   "outputs": [],
   "source": [
    "y_test_true = scaler.inverse_transform(y_test)\n",
    "y_test_pred = scaler.inverse_transform(y_pred)"
   ]
  },
  {
   "cell_type": "code",
   "execution_count": null,
   "id": "209dc040-a25c-4d9e-8adb-396778e4ef81",
   "metadata": {},
   "outputs": [],
   "source": [
    "plt.figure(figsize=(15, 6), dpi=150)\n",
    "plt.rcParams['axes.facecolor'] = 'aquamarine'\n",
    "plt.rc('axes',edgecolor='white')\n",
    "plt.plot(df['Date'].iloc[:-test_size], scaler.inverse_transform(train_data), color='black', lw=2)\n",
    "plt.plot(df['Date'].iloc[-test_size:], y_test_true, color='blue', lw=2)\n",
    "plt.plot(df['Date'].iloc[-test_size:], y_test_pred, color='red', lw=2)\n",
    "plt.title('Model Performance on Gold Price Prediction', fontsize=15)\n",
    "plt.xlabel('Date', fontsize=12)\n",
    "plt.ylabel('Price', fontsize=12)\n",
    "plt.legend(['Training Data', 'Actual Test Data', 'Predicted Test Data'], loc='upper left', prop={'size': 15})\n",
    "plt.grid(color='white')\n",
    "plt.show()"
   ]
  },
  {
   "cell_type": "code",
   "execution_count": null,
   "id": "aa62d0b4-6f37-4ce9-a0ef-9b896274dc53",
   "metadata": {},
   "outputs": [],
   "source": [
    "import dash\n",
    "from dash import dcc, html\n",
    "import plotly.express as px\n",
    "import pandas as pd\n",
    "from sklearn.preprocessing import MinMaxScaler\n",
    "\n",
    "# Inverse transform the scaled data\n",
    "train_data_original = scaler.inverse_transform(train_data)\n",
    "y_test_true_original = scaler.inverse_transform(y_test_true.reshape(-1, 1))\n",
    "y_test_pred_original = scaler.inverse_transform(y_test_pred.reshape(-1, 1))\n",
    "\n",
    "# Creating a Dash web application\n",
    "app = dash.Dash(__name__)\n",
    "\n",
    "# Define the layout of the web application\n",
    "app.layout = html.Div([\n",
    "    html.H1(\"Gold Price Prediction Model Performance\"),\n",
    "    \n",
    "    # Line plot for Training Data\n",
    "    dcc.Graph(\n",
    "        figure=px.line(x=df['Date'].iloc[:-test_size], y=train_data_original.flatten(),\n",
    "                       labels={'x': 'Date', 'y': 'Price'},\n",
    "                       title='Training Data',\n",
    "                       template='plotly_dark',\n",
    "                       line_shape='linear',\n",
    "                       markers=True,\n",
    "                       ),\n",
    "    ),\n",
    "    \n",
    "    # Line plot for Actual Test Data and Predicted Test Data\n",
    "    dcc.Graph(\n",
    "        figure=px.line(x=df['Date'].iloc[-test_size:], y=[y_test_true_original.flatten(), y_test_pred_original.flatten()],\n",
    "                       labels={'x': 'Date', 'y': 'Price'},\n",
    "                       title='Actual vs. Predicted Test Data',\n",
    "                       template='plotly_dark',\n",
    "                       line_shape='linear',\n",
    "                       markers=True,\n",
    "                       ),\n",
    "    )\n",
    "])\n",
    "\n",
    "# Running the web application\n",
    "if __name__ == '__main__':\n",
    "    app.run_server(debug=True, port=8051)\n"
   ]
  },
  {
   "cell_type": "code",
   "execution_count": null,
   "id": "3150dee2-9167-4f2f-b168-d4a04393dcfb",
   "metadata": {},
   "outputs": [],
   "source": []
  }
 ],
 "metadata": {
  "kernelspec": {
   "display_name": "Python 3 (ipykernel)",
   "language": "python",
   "name": "python3"
  },
  "language_info": {
   "codemirror_mode": {
    "name": "ipython",
    "version": 3
   },
   "file_extension": ".py",
   "mimetype": "text/x-python",
   "name": "python",
   "nbconvert_exporter": "python",
   "pygments_lexer": "ipython3",
   "version": "3.10.0"
  }
 },
 "nbformat": 4,
 "nbformat_minor": 5
}
